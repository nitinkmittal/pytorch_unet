{
 "cells": [
  {
   "cell_type": "code",
   "execution_count": 1,
   "metadata": {},
   "outputs": [],
   "source": [
    "%config Completer.use_jedi = False"
   ]
  },
  {
   "cell_type": "code",
   "execution_count": 2,
   "metadata": {},
   "outputs": [],
   "source": [
    "%load_ext autoreload\n",
    "%autoreload 2"
   ]
  },
  {
   "cell_type": "code",
   "execution_count": 3,
   "metadata": {},
   "outputs": [],
   "source": [
    "import torch\n",
    "import torch.nn as nn\n",
    "import torch.nn.functional as F"
   ]
  },
  {
   "cell_type": "markdown",
   "metadata": {},
   "source": [
    "# 1 .Binary cross entropy loss is used in case of multi-label classification problem\n",
    "\n",
    "For ex: classify animals present in the picture. A single picture can have multiple animals(assuming an image can have one or more animals out of 4 possible animals)."
   ]
  },
  {
   "cell_type": "code",
   "execution_count": 4,
   "metadata": {},
   "outputs": [
    {
     "data": {
      "text/plain": [
       "tensor([[ 1.9269,  1.4873,  0.9007, -2.1055],\n",
       "        [ 0.6784, -1.2345, -0.0431, -1.6047],\n",
       "        [-0.7521,  1.6487, -0.3925, -1.4036],\n",
       "        [-0.7279, -0.5594, -0.7688,  0.7624],\n",
       "        [ 1.6423, -0.1596, -0.4974,  0.4396],\n",
       "        [-0.7581,  1.0783,  0.8008,  1.6806],\n",
       "        [ 0.0349,  0.3211,  1.5736, -0.8455],\n",
       "        [ 1.3123,  0.6872, -1.0892, -0.3553],\n",
       "        [-1.4181,  0.8963,  0.0499,  2.2667],\n",
       "        [ 1.1790, -0.4345, -1.3864, -1.2862]])"
      ]
     },
     "execution_count": 4,
     "metadata": {},
     "output_type": "execute_result"
    }
   ],
   "source": [
    "# assuming last layer of our neural network outputs logit/ inverse sigmoid values\n",
    "torch.manual_seed(42)\n",
    "n_samples, n_classes = 10, 4\n",
    "x = torch.randn(n_samples, n_classes)\n",
    "x"
   ]
  },
  {
   "cell_type": "code",
   "execution_count": 5,
   "metadata": {},
   "outputs": [
    {
     "data": {
      "text/plain": [
       "tensor([[0., 1., 0., 0.],\n",
       "        [0., 1., 0., 0.],\n",
       "        [0., 1., 0., 0.],\n",
       "        [0., 0., 1., 0.],\n",
       "        [1., 1., 1., 0.],\n",
       "        [1., 0., 1., 1.],\n",
       "        [1., 1., 1., 1.],\n",
       "        [1., 1., 0., 0.],\n",
       "        [1., 1., 1., 0.],\n",
       "        [1., 0., 0., 0.]])"
      ]
     },
     "execution_count": 5,
     "metadata": {},
     "output_type": "execute_result"
    }
   ],
   "source": [
    "# creating arbitrary true labels \n",
    "torch.manual_seed(42)\n",
    "true_one_hot = torch.randint(2, \n",
    "                     size=(n_samples, n_classes),\n",
    "                       dtype=torch.float)\n",
    "true_one_hot"
   ]
  },
  {
   "cell_type": "code",
   "execution_count": 6,
   "metadata": {},
   "outputs": [],
   "source": [
    "def sigmoid(x: torch.Tensor) -> torch.Tensor:\n",
    "    return 1 / (1 + torch.exp(-x))\n",
    "\n",
    "def binary_cross_entropy_loss(\n",
    "    true: torch.Tensor, \n",
    "    pred: torch.Tensor,\n",
    "    eps: float=1e-10) -> torch.Tensor:\n",
    "    \"\"\"\n",
    "    Function that measures the Binary Cross Entropy\n",
    "    between the target and the output.\n",
    "    \n",
    "    Assumes probabilities of positive predicted labels are passed.\n",
    "    True labels should be passed as one-hot encoded. \n",
    "    \"\"\"\n",
    "    loss = - (true * torch.log(pred + eps) + (1-true) * torch.log(1 - pred + eps) )\n",
    "    return torch.mean(loss)"
   ]
  },
  {
   "cell_type": "code",
   "execution_count": 7,
   "metadata": {},
   "outputs": [
    {
     "data": {
      "text/plain": [
       "tensor([[0.8729, 0.8157, 0.7111, 0.1086],\n",
       "        [0.6634, 0.2254, 0.4892, 0.1673],\n",
       "        [0.3204, 0.8387, 0.4031, 0.1972],\n",
       "        [0.3257, 0.3637, 0.3167, 0.6819],\n",
       "        [0.8378, 0.4602, 0.3782, 0.6082],\n",
       "        [0.3191, 0.7462, 0.6901, 0.8430],\n",
       "        [0.5087, 0.5796, 0.8283, 0.3004],\n",
       "        [0.7879, 0.6653, 0.2518, 0.4121],\n",
       "        [0.1950, 0.7102, 0.5125, 0.9061],\n",
       "        [0.7648, 0.3931, 0.2000, 0.2165]])"
      ]
     },
     "execution_count": 7,
     "metadata": {},
     "output_type": "execute_result"
    }
   ],
   "source": [
    "# Note: here we are using sigmoid and not softmax\n",
    "pred_prob = sigmoid(x) \n",
    "pred_prob"
   ]
  },
  {
   "cell_type": "code",
   "execution_count": 8,
   "metadata": {},
   "outputs": [
    {
     "data": {
      "text/plain": [
       "torch.Tensor"
      ]
     },
     "execution_count": 8,
     "metadata": {},
     "output_type": "execute_result"
    }
   ],
   "source": [
    "type(binary_cross_entropy_loss(true=true_one_hot, pred=pred_prob))"
   ]
  },
  {
   "cell_type": "code",
   "execution_count": 9,
   "metadata": {},
   "outputs": [
    {
     "data": {
      "text/plain": [
       "tensor(0.6935)"
      ]
     },
     "execution_count": 9,
     "metadata": {},
     "output_type": "execute_result"
    }
   ],
   "source": [
    "F.binary_cross_entropy(input=pred_prob, target=true_one_hot)"
   ]
  },
  {
   "cell_type": "code",
   "execution_count": 10,
   "metadata": {},
   "outputs": [],
   "source": [
    "def binary_cross_entropy_loss_with_logits(\n",
    "    true: torch.Tensor, \n",
    "    pred: torch.Tensor,\n",
    "    eps: float=1e-10) -> torch.Tensor:\n",
    "    \"\"\"\n",
    "    Function that measures Binary Cross Entropy between target and output\n",
    "    logits.\n",
    "    \n",
    "    Assumes logits of positive predicted labels are passed.\n",
    "    True labels should be passed as one-hot encoded. \n",
    "    \"\"\"\n",
    "    pred = torch.sigmoid(pred)\n",
    "    loss = - (\n",
    "        true * torch.log(pred + eps) \n",
    "        + (1 - true) * torch.log(1 - pred + eps))\n",
    "    return torch.mean(loss)"
   ]
  },
  {
   "cell_type": "code",
   "execution_count": 11,
   "metadata": {},
   "outputs": [
    {
     "data": {
      "text/plain": [
       "tensor(0.6935)"
      ]
     },
     "execution_count": 11,
     "metadata": {},
     "output_type": "execute_result"
    }
   ],
   "source": [
    "binary_cross_entropy_loss_with_logits(true=true_one_hot,pred=x)"
   ]
  },
  {
   "cell_type": "code",
   "execution_count": 12,
   "metadata": {},
   "outputs": [
    {
     "data": {
      "text/plain": [
       "tensor(0.6935)"
      ]
     },
     "execution_count": 12,
     "metadata": {},
     "output_type": "execute_result"
    }
   ],
   "source": [
    "# Note: built in function assumes logit/ inverse sigmoid values across all classes\n",
    "F.binary_cross_entropy_with_logits(input=x, target=true_one_hot)"
   ]
  },
  {
   "cell_type": "markdown",
   "metadata": {},
   "source": [
    "# 2. Categorical Cross Entropy loss - used in case of multi-class classification where every sample/ observation can belong to single class "
   ]
  },
  {
   "cell_type": "code",
   "execution_count": 13,
   "metadata": {},
   "outputs": [
    {
     "data": {
      "text/plain": [
       "tensor([2, 3, 0, 2, 2, 3, 0, 0, 2, 1])"
      ]
     },
     "execution_count": 13,
     "metadata": {},
     "output_type": "execute_result"
    }
   ],
   "source": [
    "# Defining true labels, one hot encoded\n",
    "torch.manual_seed(42)\n",
    "true = torch.randint(n_classes, \n",
    "                     size=(n_samples,),\n",
    "                     dtype=torch.long)\n",
    "true"
   ]
  },
  {
   "cell_type": "code",
   "execution_count": 14,
   "metadata": {},
   "outputs": [
    {
     "data": {
      "text/plain": [
       "tensor([[0., 0., 1., 0.],\n",
       "        [0., 0., 0., 1.],\n",
       "        [1., 0., 0., 0.],\n",
       "        [0., 0., 1., 0.],\n",
       "        [0., 0., 1., 0.],\n",
       "        [0., 0., 0., 1.],\n",
       "        [1., 0., 0., 0.],\n",
       "        [1., 0., 0., 0.],\n",
       "        [0., 0., 1., 0.],\n",
       "        [0., 1., 0., 0.]])"
      ]
     },
     "execution_count": 14,
     "metadata": {},
     "output_type": "execute_result"
    }
   ],
   "source": [
    "# not used, just for convenience\n",
    "true_one_hot = torch.zeros((n_samples, n_classes))\n",
    "true_one_hot[range(true_one_hot.shape[0]), true] = 1\n",
    "true_one_hot"
   ]
  },
  {
   "cell_type": "code",
   "execution_count": 15,
   "metadata": {},
   "outputs": [
    {
     "data": {
      "text/plain": [
       "tensor([[ 1.9269,  1.4873,  0.9007, -2.1055],\n",
       "        [ 0.6784, -1.2345, -0.0431, -1.6047],\n",
       "        [-0.7521,  1.6487, -0.3925, -1.4036],\n",
       "        [-0.7279, -0.5594, -0.7688,  0.7624],\n",
       "        [ 1.6423, -0.1596, -0.4974,  0.4396],\n",
       "        [-0.7581,  1.0783,  0.8008,  1.6806],\n",
       "        [ 0.0349,  0.3211,  1.5736, -0.8455],\n",
       "        [ 1.3123,  0.6872, -1.0892, -0.3553],\n",
       "        [-1.4181,  0.8963,  0.0499,  2.2667],\n",
       "        [ 1.1790, -0.4345, -1.3864, -1.2862]])"
      ]
     },
     "execution_count": 15,
     "metadata": {},
     "output_type": "execute_result"
    }
   ],
   "source": [
    "torch.manual_seed(42)\n",
    "n_samples, n_classes = 10, 4\n",
    "x = torch.randn(n_samples, n_classes)\n",
    "x"
   ]
  },
  {
   "cell_type": "code",
   "execution_count": 16,
   "metadata": {},
   "outputs": [
    {
     "data": {
      "text/plain": [
       "tensor([[0.4950, 0.3189, 0.1774, 0.0088],\n",
       "        [0.5762, 0.0851, 0.2800, 0.0588],\n",
       "        [0.0715, 0.7888, 0.1024, 0.0373],\n",
       "        [0.1319, 0.1561, 0.1266, 0.5854],\n",
       "        [0.6317, 0.1042, 0.0743, 0.1897],\n",
       "        [0.0426, 0.2671, 0.2024, 0.4879],\n",
       "        [0.1351, 0.1798, 0.6291, 0.0560],\n",
       "        [0.5511, 0.2950, 0.0499, 0.1040],\n",
       "        [0.0181, 0.1830, 0.0785, 0.7204],\n",
       "        [0.7347, 0.1464, 0.0565, 0.0624]])"
      ]
     },
     "execution_count": 16,
     "metadata": {},
     "output_type": "execute_result"
    }
   ],
   "source": [
    "# not used, just for convenience\n",
    "pred_prob = torch.softmax(x, axis=1)\n",
    "pred_prob\n",
    "# Note: each row sum to 1"
   ]
  },
  {
   "cell_type": "code",
   "execution_count": 17,
   "metadata": {},
   "outputs": [],
   "source": [
    "def categorical_cross_entropy_loss(\n",
    "    pred: torch.Tensor, \n",
    "    true: torch.Tensor,\n",
    "    eps: float=1e-10):\n",
    "    \"\"\"\n",
    "    Categorical cross entropy loss accumulates log loss across true labels.\n",
    "    \n",
    "    Parameters\n",
    "    ----------\n",
    "    pred: shape (n, c)\n",
    "        n: number of samples\n",
    "        \n",
    "        c: number of classes\n",
    "        \n",
    "        Accepts raw unnormalized scores for pred.\n",
    "    \n",
    "    target: shape (n, )\n",
    "        Accepts integer target classes\n",
    "    \"\"\"\n",
    "    pred = torch.softmax(pred, axis=1)\n",
    "    log_loss_across_true_labels = -torch.log(pred[range(pred.shape[0]),true])\n",
    "    return torch.mean(log_loss_across_true_labels)"
   ]
  },
  {
   "cell_type": "code",
   "execution_count": 18,
   "metadata": {},
   "outputs": [
    {
     "data": {
      "text/plain": [
       "tensor(1.9650)"
      ]
     },
     "execution_count": 18,
     "metadata": {},
     "output_type": "execute_result"
    }
   ],
   "source": [
    "categorical_cross_entropy_loss(pred=x, true=true)"
   ]
  },
  {
   "cell_type": "code",
   "execution_count": 19,
   "metadata": {},
   "outputs": [
    {
     "data": {
      "text/plain": [
       "tensor(1.9650)"
      ]
     },
     "execution_count": 19,
     "metadata": {},
     "output_type": "execute_result"
    }
   ],
   "source": [
    "# Using built in categorical cross entropy loss function\n",
    "# Note: built in function takes up raw unnormalized scores with \n",
    "# true labels passed as integer labels\n",
    "torch.nn.CrossEntropyLoss()(x, true)"
   ]
  },
  {
   "cell_type": "code",
   "execution_count": 20,
   "metadata": {},
   "outputs": [
    {
     "data": {
      "text/plain": [
       "tensor(1.9650)"
      ]
     },
     "execution_count": 20,
     "metadata": {},
     "output_type": "execute_result"
    }
   ],
   "source": [
    "F.cross_entropy(x, true)"
   ]
  }
 ],
 "metadata": {
  "kernelspec": {
   "display_name": "pytorch_unet",
   "language": "python",
   "name": "pytorch_unet"
  },
  "language_info": {
   "codemirror_mode": {
    "name": "ipython",
    "version": 3
   },
   "file_extension": ".py",
   "mimetype": "text/x-python",
   "name": "python",
   "nbconvert_exporter": "python",
   "pygments_lexer": "ipython3",
   "version": "3.6.12"
  }
 },
 "nbformat": 4,
 "nbformat_minor": 4
}
