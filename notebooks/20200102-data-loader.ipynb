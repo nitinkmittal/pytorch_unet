{
 "cells": [
  {
   "cell_type": "code",
   "execution_count": 1,
   "metadata": {},
   "outputs": [],
   "source": [
    "%config Completer.use_jedi = False"
   ]
  },
  {
   "cell_type": "code",
   "execution_count": 2,
   "metadata": {},
   "outputs": [],
   "source": [
    "%load_ext autoreload\n",
    "%autoreload 2"
   ]
  },
  {
   "cell_type": "code",
   "execution_count": 3,
   "metadata": {},
   "outputs": [],
   "source": [
    "from torch.utils.data import DataLoader\n",
    "from torchvision import transforms\n",
    "import numpy as np\n",
    "import torch\n",
    "import torch.nn as nn\n",
    "from matplotlib import pyplot as plt\n",
    "from torchsummary import summary"
   ]
  },
  {
   "cell_type": "code",
   "execution_count": 22,
   "metadata": {},
   "outputs": [],
   "source": [
    "from pytorch_unet import (dataset_generator,\n",
    "                          data_generator,\n",
    "                          losses,\n",
    "                          utils,\n",
    "                          unet)"
   ]
  },
  {
   "cell_type": "code",
   "execution_count": 5,
   "metadata": {},
   "outputs": [],
   "source": [
    "BATCH_SIZE, TARGET_CHANNELS, HEIGHT, WIDTH, N_SAMPLES_TRAIN, N_SAMPLES_TEST   = 3, 6, 128, 128, 100, 10"
   ]
  },
  {
   "cell_type": "code",
   "execution_count": 6,
   "metadata": {},
   "outputs": [],
   "source": [
    "# use the same transformations for train/val in this example\n",
    "trfms = transforms.Compose([transforms.ToTensor()])"
   ]
  },
  {
   "cell_type": "code",
   "execution_count": 7,
   "metadata": {},
   "outputs": [],
   "source": [
    "train_dataset = dataset_generator.CustomDataset(\n",
    "    height=HEIGHT, \n",
    "    width=WIDTH, \n",
    "    n_samples=N_SAMPLES_TRAIN,\n",
    "    transform=trfms)\n",
    "\n",
    "test_dataset = dataset_generator.CustomDataset(\n",
    "    height=HEIGHT, \n",
    "    width=WIDTH, \n",
    "    n_samples=N_SAMPLES_TRAIN,\n",
    "    transform=trfms)"
   ]
  },
  {
   "cell_type": "code",
   "execution_count": 23,
   "metadata": {},
   "outputs": [
    {
     "name": "stdout",
     "output_type": "stream",
     "text": [
      "Image shape: (128, 128, 3)\n"
     ]
    },
    {
     "data": {
      "image/png": "[encoded data removed]",
      "text/plain": [
       "<Figure size 432x288 with 1 Axes>"
      ]
     },
     "metadata": {
      "needs_background": "light"
     },
     "output_type": "display_data"
    }
   ],
   "source": [
    "i = np.random.choice(N_SAMPLES_TRAIN)\n",
    "img = utils.inverse_transform(train_dataset.__getitem__(i)[0])\n",
    "print(f\"Image shape: {img.shape}\")\n",
    "plt.imshow(img)\n",
    "plt.show()"
   ]
  },
  {
   "cell_type": "code",
   "execution_count": 10,
   "metadata": {},
   "outputs": [],
   "source": [
    "data_loaders = {\n",
    "    \"train\": DataLoader(\n",
    "        dataset=train_dataset,\n",
    "        batch_size=BATCH_SIZE, \n",
    "        shuffle=True),\n",
    "    \"test\": DataLoader(\n",
    "        dataset=test_dataset, \n",
    "        batch_size=BATCH_SIZE, \n",
    "        shuffle=False)}"
   ]
  },
  {
   "cell_type": "code",
   "execution_count": 11,
   "metadata": {},
   "outputs": [],
   "source": [
    "for i, batch in enumerate(data_loaders[\"train\"]):\n",
    "    input_images, target_masks_true = batch\n",
    "    break"
   ]
  },
  {
   "cell_type": "code",
   "execution_count": 12,
   "metadata": {},
   "outputs": [
    {
     "data": {
      "text/plain": [
       "torch.Size([3, 6, 128, 128])"
      ]
     },
     "execution_count": 12,
     "metadata": {},
     "output_type": "execute_result"
    }
   ],
   "source": [
    "target_masks_true.shape"
   ]
  },
  {
   "cell_type": "code",
   "execution_count": 13,
   "metadata": {},
   "outputs": [
    {
     "data": {
      "text/plain": [
       "device(type='cuda')"
      ]
     },
     "execution_count": 13,
     "metadata": {},
     "output_type": "execute_result"
    }
   ],
   "source": [
    "device = torch.device(\"cuda\" if torch.cuda.is_available() else \"cpu\")\n",
    "device"
   ]
  },
  {
   "cell_type": "code",
   "execution_count": 14,
   "metadata": {},
   "outputs": [
    {
     "name": "stdout",
     "output_type": "stream",
     "text": [
      "----------------------------------------------------------------\n",
      "        Layer (type)               Output Shape         Param #\n",
      "================================================================\n",
      "            Conv2d-1         [-1, 64, 128, 128]           1,792\n",
      "       BatchNorm2d-2         [-1, 64, 128, 128]             128\n",
      "              ReLU-3         [-1, 64, 128, 128]               0\n",
      "            Conv2d-4         [-1, 64, 128, 128]          36,928\n",
      "       BatchNorm2d-5         [-1, 64, 128, 128]             128\n",
      "              ReLU-6         [-1, 64, 128, 128]               0\n",
      "         MaxPool2d-7           [-1, 64, 64, 64]               0\n",
      "            Conv2d-8          [-1, 128, 64, 64]          73,856\n",
      "       BatchNorm2d-9          [-1, 128, 64, 64]             256\n",
      "             ReLU-10          [-1, 128, 64, 64]               0\n",
      "           Conv2d-11          [-1, 128, 64, 64]         147,584\n",
      "      BatchNorm2d-12          [-1, 128, 64, 64]             256\n",
      "             ReLU-13          [-1, 128, 64, 64]               0\n",
      "        MaxPool2d-14          [-1, 128, 32, 32]               0\n",
      "           Conv2d-15          [-1, 256, 32, 32]         295,168\n",
      "      BatchNorm2d-16          [-1, 256, 32, 32]             512\n",
      "             ReLU-17          [-1, 256, 32, 32]               0\n",
      "           Conv2d-18          [-1, 256, 32, 32]         590,080\n",
      "      BatchNorm2d-19          [-1, 256, 32, 32]             512\n",
      "             ReLU-20          [-1, 256, 32, 32]               0\n",
      "        MaxPool2d-21          [-1, 256, 16, 16]               0\n",
      "           Conv2d-22          [-1, 512, 16, 16]       1,180,160\n",
      "      BatchNorm2d-23          [-1, 512, 16, 16]           1,024\n",
      "             ReLU-24          [-1, 512, 16, 16]               0\n",
      "           Conv2d-25          [-1, 512, 16, 16]       2,359,808\n",
      "      BatchNorm2d-26          [-1, 512, 16, 16]           1,024\n",
      "             ReLU-27          [-1, 512, 16, 16]               0\n",
      "         Upsample-28          [-1, 512, 32, 32]               0\n",
      "           Conv2d-29          [-1, 256, 32, 32]       1,769,728\n",
      "      BatchNorm2d-30          [-1, 256, 32, 32]             512\n",
      "             ReLU-31          [-1, 256, 32, 32]               0\n",
      "           Conv2d-32          [-1, 256, 32, 32]         590,080\n",
      "      BatchNorm2d-33          [-1, 256, 32, 32]             512\n",
      "             ReLU-34          [-1, 256, 32, 32]               0\n",
      "         Upsample-35          [-1, 256, 64, 64]               0\n",
      "           Conv2d-36          [-1, 128, 64, 64]         442,496\n",
      "      BatchNorm2d-37          [-1, 128, 64, 64]             256\n",
      "             ReLU-38          [-1, 128, 64, 64]               0\n",
      "           Conv2d-39          [-1, 128, 64, 64]         147,584\n",
      "      BatchNorm2d-40          [-1, 128, 64, 64]             256\n",
      "             ReLU-41          [-1, 128, 64, 64]               0\n",
      "         Upsample-42        [-1, 128, 128, 128]               0\n",
      "           Conv2d-43         [-1, 64, 128, 128]         110,656\n",
      "      BatchNorm2d-44         [-1, 64, 128, 128]             128\n",
      "             ReLU-45         [-1, 64, 128, 128]               0\n",
      "           Conv2d-46         [-1, 64, 128, 128]          36,928\n",
      "      BatchNorm2d-47         [-1, 64, 128, 128]             128\n",
      "             ReLU-48         [-1, 64, 128, 128]               0\n",
      "           Conv2d-49          [-1, 6, 128, 128]             390\n",
      "================================================================\n",
      "Total params: 7,788,870\n",
      "Trainable params: 7,788,870\n",
      "Non-trainable params: 0\n",
      "----------------------------------------------------------------\n",
      "Input size (MB): 0.19\n",
      "Forward/backward pass size (MB): 206.25\n",
      "Params size (MB): 29.71\n",
      "Estimated Total Size (MB): 236.15\n",
      "----------------------------------------------------------------\n"
     ]
    }
   ],
   "source": [
    "model = unet.UNet(n_class=TARGET_CHANNELS)\n",
    "model.to(device)\n",
    "summary(model, input_size= input_images.shape[1:])"
   ]
  },
  {
   "cell_type": "code",
   "execution_count": 15,
   "metadata": {},
   "outputs": [],
   "source": [
    "input_images = input_images.to(device)\n",
    "target_masks_true = target_masks_true.to(device)\n",
    "target_masks_pred = model.forward(input_images)"
   ]
  },
  {
   "cell_type": "code",
   "execution_count": 16,
   "metadata": {},
   "outputs": [
    {
     "data": {
      "text/plain": [
       "(torch.Size([3, 6, 128, 128]), torch.Size([3, 6, 128, 128]))"
      ]
     },
     "execution_count": 16,
     "metadata": {},
     "output_type": "execute_result"
    }
   ],
   "source": [
    "target_masks_true.shape, target_masks_pred.shape"
   ]
  },
  {
   "cell_type": "code",
   "execution_count": 17,
   "metadata": {},
   "outputs": [
    {
     "data": {
      "text/plain": [
       "tensor(0.9778, device='cuda:0', grad_fn=<MeanBackward0>)"
      ]
     },
     "execution_count": 17,
     "metadata": {},
     "output_type": "execute_result"
    }
   ],
   "source": [
    "losses.dice_loss(target_masks_pred, target_masks_true, eps=0)"
   ]
  },
  {
   "cell_type": "code",
   "execution_count": 18,
   "metadata": {},
   "outputs": [
    {
     "data": {
      "text/plain": [
       "tensor(0.7286, device='cuda:0', grad_fn=<BinaryCrossEntropyWithLogitsBackward>)"
      ]
     },
     "execution_count": 18,
     "metadata": {},
     "output_type": "execute_result"
    }
   ],
   "source": [
    "torch.nn.functional.binary_cross_entropy_with_logits(target_masks_pred, target_masks_true)"
   ]
  },
  {
   "cell_type": "code",
   "execution_count": 19,
   "metadata": {},
   "outputs": [
    {
     "data": {
      "text/plain": [
       "tensor(0.7286, device='cuda:0', grad_fn=<MeanBackward0>)"
      ]
     },
     "execution_count": 19,
     "metadata": {},
     "output_type": "execute_result"
    }
   ],
   "source": [
    "losses.binary_cross_entropy_loss_with_logits(target_masks_pred, target_masks_true)"
   ]
  },
  {
   "cell_type": "code",
   "execution_count": 20,
   "metadata": {},
   "outputs": [
    {
     "data": {
      "text/plain": [
       "tensor(0.8532, device='cuda:0', grad_fn=<AddBackward0>)"
      ]
     },
     "execution_count": 20,
     "metadata": {},
     "output_type": "execute_result"
    }
   ],
   "source": [
    "loss_metrics = dict(bce=0.0, dice=0.0, total=0.0)\n",
    "x = losses.total_loss(target_masks_pred, target_masks_true, loss_metrics)\n",
    "x"
   ]
  },
  {
   "cell_type": "code",
   "execution_count": 21,
   "metadata": {},
   "outputs": [
    {
     "data": {
      "text/plain": [
       "{'bce': 0.7286021113395691,\n",
       " 'dice': 0.9778321385383606,\n",
       " 'total': 0.8532171249389648}"
      ]
     },
     "execution_count": 21,
     "metadata": {},
     "output_type": "execute_result"
    }
   ],
   "source": [
    "loss_metrics"
   ]
  },
  {
   "cell_type": "code",
   "execution_count": null,
   "metadata": {},
   "outputs": [],
   "source": []
  }
 ],
 "metadata": {
  "kernelspec": {
   "display_name": "pytorch_unet",
   "language": "python",
   "name": "pytorch_unet"
  },
  "language_info": {
   "codemirror_mode": {
    "name": "ipython",
    "version": 3
   },
   "file_extension": ".py",
   "mimetype": "text/x-python",
   "name": "python",
   "nbconvert_exporter": "python",
   "pygments_lexer": "ipython3",
   "version": "3.6.12"
  }
 },
 "nbformat": 4,
 "nbformat_minor": 4
}
