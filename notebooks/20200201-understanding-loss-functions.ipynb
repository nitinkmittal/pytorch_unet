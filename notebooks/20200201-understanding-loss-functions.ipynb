{
 "cells": [
  {
   "cell_type": "code",
   "execution_count": 1,
   "metadata": {},
   "outputs": [],
   "source": [
    "%config Completer.use_jedi = False"
   ]
  },
  {
   "cell_type": "code",
   "execution_count": 2,
   "metadata": {},
   "outputs": [],
   "source": [
    "%load_ext autoreload\n",
    "%autoreload 2"
   ]
  },
  {
   "cell_type": "code",
   "execution_count": 3,
   "metadata": {},
   "outputs": [],
   "source": [
    "import torch\n",
    "import torch.nn as nn\n",
    "import torch.nn.functional as F"
   ]
  },
  {
   "cell_type": "markdown",
   "metadata": {},
   "source": [
    "# 1 .Binary cross entropy loss is used in case of multi-label classification problem\n",
    "\n",
    "For ex: classify animals present in the picture. A single picture can have multiple animals(assuming an image can have one or more animals out of 4 possible animals)."
   ]
  },
  {
   "cell_type": "code",
   "execution_count": 36,
   "metadata": {},
   "outputs": [
    {
     "data": {
      "text/plain": [
       "tensor([[-0.8146, -1.0212, -0.4949, -0.5923],\n",
       "        [ 0.1543,  0.4408, -0.1483, -2.3184],\n",
       "        [-0.3980,  1.0805, -1.7809,  1.5080],\n",
       "        [ 0.3094, -0.5003,  1.0350,  1.6896],\n",
       "        [-0.0045,  1.6668,  0.1539, -1.0603],\n",
       "        [-0.5727,  0.0836,  0.3999,  1.9892],\n",
       "        [ 0.1729,  1.0514,  0.0075, -0.0774],\n",
       "        [ 0.6427,  0.5742,  0.5867, -0.0188],\n",
       "        [-0.9143,  1.4840, -0.9109, -0.5291],\n",
       "        [-0.8051,  0.5158, -0.7129,  0.2196]])"
      ]
     },
     "execution_count": 36,
     "metadata": {},
     "output_type": "execute_result"
    }
   ],
   "source": [
    "# assuming last layer of our neural network outputs logit/ inverse sigmoid values\n",
    "n_samples, n_classes = 10, 4\n",
    "x = torch.randn(n_samples, n_classes)\n",
    "x"
   ]
  },
  {
   "cell_type": "code",
   "execution_count": 37,
   "metadata": {},
   "outputs": [
    {
     "data": {
      "text/plain": [
       "tensor([[0., 1., 1., 1.],\n",
       "        [0., 0., 1., 1.],\n",
       "        [1., 1., 0., 1.],\n",
       "        [0., 1., 0., 1.],\n",
       "        [1., 1., 1., 0.],\n",
       "        [1., 0., 0., 0.],\n",
       "        [0., 1., 0., 0.],\n",
       "        [0., 1., 1., 1.],\n",
       "        [1., 0., 0., 1.],\n",
       "        [0., 0., 0., 1.]])"
      ]
     },
     "execution_count": 37,
     "metadata": {},
     "output_type": "execute_result"
    }
   ],
   "source": [
    "# creating arbitrary true labels \n",
    "true_one_hot = torch.randint(2, \n",
    "                     size=(n_samples, n_classes),\n",
    "                       dtype=torch.float)\n",
    "true_one_hot"
   ]
  },
  {
   "cell_type": "code",
   "execution_count": 48,
   "metadata": {},
   "outputs": [],
   "source": [
    "def sigmoid(x: torch.Tensor) -> torch.Tensor:\n",
    "    return 1/(1 + torch.exp(-x))\n",
    "\n",
    "def binary_cross_entropy_loss(\n",
    "    pred: torch.Tensor,\n",
    "    true: torch.Tensor, \n",
    "    eps: float=1e-10) -> torch.Tensor:\n",
    "    \"\"\"\n",
    "    Compute Binary Cross Entropy between the prediction and true outputs.\n",
    "    \n",
    "    Parameters\n",
    "    ----------\n",
    "    pred: (n, c)\n",
    "        contains probabilities across c classes and n samples.\n",
    "        \n",
    "    true: (n, c)\n",
    "        one-hot-encoded values.\n",
    "    \"\"\"\n",
    "    pred = pred + eps\n",
    "    loss = true * torch.log(pred) + (1-true) * torch.log(1 - pred)\n",
    "    return -torch.mean(loss)"
   ]
  },
  {
   "cell_type": "code",
   "execution_count": 49,
   "metadata": {},
   "outputs": [
    {
     "data": {
      "text/plain": [
       "tensor([[0.3069, 0.2648, 0.3787, 0.3561],\n",
       "        [0.5385, 0.6084, 0.4630, 0.0896],\n",
       "        [0.4018, 0.7466, 0.1442, 0.8188],\n",
       "        [0.5767, 0.3775, 0.7379, 0.8442],\n",
       "        [0.4989, 0.8411, 0.5384, 0.2573],\n",
       "        [0.3606, 0.5209, 0.5987, 0.8797],\n",
       "        [0.5431, 0.7410, 0.5019, 0.4807],\n",
       "        [0.6554, 0.6397, 0.6426, 0.4953],\n",
       "        [0.2861, 0.8152, 0.2868, 0.3707],\n",
       "        [0.3089, 0.6262, 0.3290, 0.5547]])"
      ]
     },
     "execution_count": 49,
     "metadata": {},
     "output_type": "execute_result"
    }
   ],
   "source": [
    "# Note: here we are using sigmoid and not softmax\n",
    "pred_prob = sigmoid(x) \n",
    "pred_prob"
   ]
  },
  {
   "cell_type": "code",
   "execution_count": 50,
   "metadata": {},
   "outputs": [
    {
     "data": {
      "text/plain": [
       "tensor(0.7942)"
      ]
     },
     "execution_count": 50,
     "metadata": {},
     "output_type": "execute_result"
    }
   ],
   "source": [
    "binary_cross_entropy_loss(pred=pred_prob, true=true_one_hot)"
   ]
  },
  {
   "cell_type": "code",
   "execution_count": 51,
   "metadata": {},
   "outputs": [
    {
     "data": {
      "text/plain": [
       "tensor(0.7942)"
      ]
     },
     "execution_count": 51,
     "metadata": {},
     "output_type": "execute_result"
    }
   ],
   "source": [
    "F.binary_cross_entropy(input=pred_prob, target=true_one_hot)"
   ]
  },
  {
   "cell_type": "code",
   "execution_count": 52,
   "metadata": {},
   "outputs": [],
   "source": [
    "def binary_cross_entropy_loss_with_logits(\n",
    "    pred: torch.Tensor,\n",
    "    true: torch.Tensor, \n",
    "    eps: float=1e-10) -> torch.Tensor:\n",
    "    \"\"\"\n",
    "    Compute Binary Cross Entropy between the prediction and true outputs.\n",
    "    \n",
    "    Parameters\n",
    "    ----------\n",
    "    pred: (n, c)\n",
    "        contains logit values across c classes and n samples.\n",
    "        \n",
    "    true: (n, c)\n",
    "        one-hot-encoded values.\n",
    "    \"\"\"\n",
    "    pred = torch.sigmoid(pred) + eps\n",
    "    loss = true * torch.log(pred) + (1 - true) * torch.log(1 - pred)\n",
    "    return -torch.mean(loss)"
   ]
  },
  {
   "cell_type": "code",
   "execution_count": 55,
   "metadata": {},
   "outputs": [
    {
     "data": {
      "text/plain": [
       "tensor(0.7942)"
      ]
     },
     "execution_count": 55,
     "metadata": {},
     "output_type": "execute_result"
    }
   ],
   "source": [
    "binary_cross_entropy_loss_with_logits( pred=x, true=true_one_hot)"
   ]
  },
  {
   "cell_type": "code",
   "execution_count": 56,
   "metadata": {},
   "outputs": [
    {
     "data": {
      "text/plain": [
       "tensor(0.7942)"
      ]
     },
     "execution_count": 56,
     "metadata": {},
     "output_type": "execute_result"
    }
   ],
   "source": [
    "# Note: built in function assumes logit/ inverse sigmoid values across all classes\n",
    "F.binary_cross_entropy_with_logits(input=x, target=true_one_hot)"
   ]
  },
  {
   "cell_type": "markdown",
   "metadata": {},
   "source": [
    "# 2. Categorical Cross Entropy loss - used in case of multi-class classification where every sample/ observation can belong to single class "
   ]
  },
  {
   "cell_type": "code",
   "execution_count": 57,
   "metadata": {},
   "outputs": [
    {
     "data": {
      "text/plain": [
       "tensor([1, 0, 3, 1, 3, 1, 3, 2, 3, 2])"
      ]
     },
     "execution_count": 57,
     "metadata": {},
     "output_type": "execute_result"
    }
   ],
   "source": [
    "# Defining true labels, one hot encoded\n",
    "true = torch.randint(n_classes, \n",
    "                     size=(n_samples,),\n",
    "                     dtype=torch.long)\n",
    "true"
   ]
  },
  {
   "cell_type": "code",
   "execution_count": 58,
   "metadata": {},
   "outputs": [
    {
     "data": {
      "text/plain": [
       "tensor([[0., 1., 0., 0.],\n",
       "        [1., 0., 0., 0.],\n",
       "        [0., 0., 0., 1.],\n",
       "        [0., 1., 0., 0.],\n",
       "        [0., 0., 0., 1.],\n",
       "        [0., 1., 0., 0.],\n",
       "        [0., 0., 0., 1.],\n",
       "        [0., 0., 1., 0.],\n",
       "        [0., 0., 0., 1.],\n",
       "        [0., 0., 1., 0.]])"
      ]
     },
     "execution_count": 58,
     "metadata": {},
     "output_type": "execute_result"
    }
   ],
   "source": [
    "# not used, just for convenience\n",
    "true_one_hot = torch.zeros((n_samples, n_classes))\n",
    "true_one_hot[range(true_one_hot.shape[0]), true] = 1\n",
    "true_one_hot"
   ]
  },
  {
   "cell_type": "code",
   "execution_count": 59,
   "metadata": {},
   "outputs": [
    {
     "data": {
      "text/plain": [
       "tensor([[0.2253, 0.1832, 0.3101, 0.2814],\n",
       "        [0.3170, 0.4221, 0.2342, 0.0267],\n",
       "        [0.0809, 0.3548, 0.0203, 0.5441],\n",
       "        [0.1336, 0.0594, 0.2759, 0.5310],\n",
       "        [0.1276, 0.6786, 0.1495, 0.0444],\n",
       "        [0.0540, 0.1040, 0.1427, 0.6993],\n",
       "        [0.1987, 0.4783, 0.1684, 0.1547],\n",
       "        [0.2945, 0.2750, 0.2785, 0.1520],\n",
       "        [0.0691, 0.7601, 0.0693, 0.1015],\n",
       "        [0.1159, 0.4342, 0.1271, 0.3229]])"
      ]
     },
     "execution_count": 59,
     "metadata": {},
     "output_type": "execute_result"
    }
   ],
   "source": [
    "# not used, just for convenience\n",
    "pred_prob = torch.softmax(x, axis=1)\n",
    "pred_prob\n",
    "# Note: each row sum to 1"
   ]
  },
  {
   "cell_type": "code",
   "execution_count": 60,
   "metadata": {},
   "outputs": [],
   "source": [
    "def categorical_cross_entropy_loss(\n",
    "    pred: torch.Tensor, \n",
    "    true: torch.Tensor,\n",
    "    eps: float=1e-10):\n",
    "    \"\"\"\n",
    "    Categorical cross entropy loss computes loss only across true labels.\n",
    "    \n",
    "    Parameters\n",
    "    ----------\n",
    "    pred: (n, c)\n",
    "        n: number of samples\n",
    "        \n",
    "        c: number of classes\n",
    "        \n",
    "        pred contains raw unnormalized values.\n",
    "    \n",
    "    true: (n, )\n",
    "        true contains integer values.\n",
    "    \"\"\"\n",
    "    pred = torch.softmax(pred, axis=1)\n",
    "    log_loss_across_true_labels = torch.log(pred[range(pred.shape[0]),true])\n",
    "    return -torch.mean(log_loss_across_true_labels)"
   ]
  },
  {
   "cell_type": "code",
   "execution_count": 61,
   "metadata": {},
   "outputs": [
    {
     "data": {
      "text/plain": [
       "tensor(1.9151)"
      ]
     },
     "execution_count": 61,
     "metadata": {},
     "output_type": "execute_result"
    }
   ],
   "source": [
    "categorical_cross_entropy_loss(pred=x, true=true)"
   ]
  },
  {
   "cell_type": "code",
   "execution_count": 62,
   "metadata": {},
   "outputs": [
    {
     "data": {
      "text/plain": [
       "tensor(1.9151)"
      ]
     },
     "execution_count": 62,
     "metadata": {},
     "output_type": "execute_result"
    }
   ],
   "source": [
    "# Using built in categorical cross entropy loss function\n",
    "# Note: built in function takes up raw unnormalized scores with \n",
    "# true labels passed as integer labels\n",
    "torch.nn.CrossEntropyLoss()(x, true)"
   ]
  },
  {
   "cell_type": "code",
   "execution_count": 63,
   "metadata": {},
   "outputs": [
    {
     "data": {
      "text/plain": [
       "tensor(1.9151)"
      ]
     },
     "execution_count": 63,
     "metadata": {},
     "output_type": "execute_result"
    }
   ],
   "source": [
    "F.cross_entropy(x, true)"
   ]
  },
  {
   "cell_type": "markdown",
   "metadata": {},
   "source": [
    "Added ability to ignore computing loss along indexes"
   ]
  },
  {
   "cell_type": "code",
   "execution_count": 64,
   "metadata": {},
   "outputs": [],
   "source": [
    "def categorical_cross_entropy_loss(\n",
    "    pred: torch.Tensor, \n",
    "    true: torch.Tensor,\n",
    "    ignore_index: int=-100):\n",
    "    \"\"\"\n",
    "    Categorical cross entropy loss computes loss only across true labels.\n",
    "    \n",
    "    Parameters\n",
    "    ----------\n",
    "    pred: (n, c)\n",
    "        n: number of samples\n",
    "        \n",
    "        c: number of classes\n",
    "        \n",
    "        pred contains raw unnormalized values.\n",
    "    \n",
    "    true: (n, )\n",
    "        true contains integer values.\n",
    "    \n",
    "    ignore_idx: true value across which loss is not computed.\n",
    "        Used to decrease importance across trivial true values.\n",
    "    \"\"\"\n",
    "    idxs_to_keep = torch.nonzero(true!=ignore_index).squeeze()\n",
    "    true = true.index_select(0, idxs_to_keep) \n",
    "    pred = pred.index_select(0, idxs_to_keep)\n",
    "    pred = torch.log_softmax(pred, axis=1)\n",
    "    return -torch.mean(pred[range(true.shape[0]), true])"
   ]
  },
  {
   "cell_type": "code",
   "execution_count": 65,
   "metadata": {},
   "outputs": [
    {
     "data": {
      "text/plain": [
       "tensor(1.9762)"
      ]
     },
     "execution_count": 65,
     "metadata": {},
     "output_type": "execute_result"
    }
   ],
   "source": [
    "categorical_cross_entropy_loss(pred=x, true=true, ignore_index=2)"
   ]
  },
  {
   "cell_type": "code",
   "execution_count": 66,
   "metadata": {},
   "outputs": [
    {
     "data": {
      "text/plain": [
       "tensor(1.9762)"
      ]
     },
     "execution_count": 66,
     "metadata": {},
     "output_type": "execute_result"
    }
   ],
   "source": [
    "# Using built in categorical cross entropy loss function\n",
    "# Note: built in function takes up raw unnormalized scores with \n",
    "# true labels passed as integer labels\n",
    "torch.nn.CrossEntropyLoss(ignore_index=2)(x, true)"
   ]
  },
  {
   "cell_type": "code",
   "execution_count": 67,
   "metadata": {},
   "outputs": [
    {
     "data": {
      "text/plain": [
       "tensor(1.9762)"
      ]
     },
     "execution_count": 67,
     "metadata": {},
     "output_type": "execute_result"
    }
   ],
   "source": [
    "F.cross_entropy(x, true, ignore_index=2)"
   ]
  }
 ],
 "metadata": {
  "kernelspec": {
   "display_name": "pytorch_unet",
   "language": "python",
   "name": "pytorch_unet"
  },
  "language_info": {
   "codemirror_mode": {
    "name": "ipython",
    "version": 3
   },
   "file_extension": ".py",
   "mimetype": "text/x-python",
   "name": "python",
   "nbconvert_exporter": "python",
   "pygments_lexer": "ipython3",
   "version": "3.6.12"
  }
 },
 "nbformat": 4,
 "nbformat_minor": 4
}
