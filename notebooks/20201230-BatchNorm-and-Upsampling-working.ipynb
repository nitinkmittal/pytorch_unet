{
 "cells": [
  {
   "cell_type": "code",
   "execution_count": 1,
   "metadata": {},
   "outputs": [],
   "source": [
    "import torch\n",
    "import torch.nn as nn"
   ]
  },
  {
   "cell_type": "code",
   "execution_count": 2,
   "metadata": {},
   "outputs": [],
   "source": [
    "%config Completer.use_jedi = False"
   ]
  },
  {
   "cell_type": "code",
   "execution_count": 3,
   "metadata": {},
   "outputs": [],
   "source": [
    "RANDOM_SEED = 42"
   ]
  },
  {
   "cell_type": "code",
   "execution_count": 4,
   "metadata": {},
   "outputs": [],
   "source": [
    "torch.manual_seed(RANDOM_SEED)\n",
    "random_var = torch.rand(1, 3, 4, 4)"
   ]
  },
  {
   "cell_type": "code",
   "execution_count": 5,
   "metadata": {},
   "outputs": [
    {
     "data": {
      "text/plain": [
       "(tensor([0., 0., 0.]),\n",
       " tensor([1., 1., 1.]),\n",
       " Parameter containing:\n",
       " tensor([1., 1., 1.], requires_grad=True))"
      ]
     },
     "execution_count": 5,
     "metadata": {},
     "output_type": "execute_result"
    }
   ],
   "source": [
    "momentum = .1\n",
    "# num_features corresponds to number of channels\n",
    "batch_norm2d = nn.BatchNorm2d(num_features=3, momentum=momentum)\n",
    "batch_norm2d.running_mean, batch_norm2d.running_var, batch_norm2d.weight"
   ]
  },
  {
   "cell_type": "code",
   "execution_count": 6,
   "metadata": {},
   "outputs": [],
   "source": [
    "norm_random_var = batch_norm2d(random_var)"
   ]
  },
  {
   "cell_type": "code",
   "execution_count": 7,
   "metadata": {},
   "outputs": [
    {
     "data": {
      "text/plain": [
       "(tensor([0.0649, 0.0419, 0.0631]),\n",
       " tensor([0.9072, 0.9085, 0.9047]),\n",
       " Parameter containing:\n",
       " tensor([1., 1., 1.], requires_grad=True))"
      ]
     },
     "execution_count": 7,
     "metadata": {},
     "output_type": "execute_result"
    }
   ],
   "source": [
    "batch_norm2d.running_mean, batch_norm2d.running_var, batch_norm2d.weight"
   ]
  },
  {
   "cell_type": "code",
   "execution_count": 8,
   "metadata": {},
   "outputs": [
    {
     "data": {
      "text/plain": [
       "(tensor(0.0419), tensor(0.9085))"
      ]
     },
     "execution_count": 8,
     "metadata": {},
     "output_type": "execute_result"
    }
   ],
   "source": [
    "channel = 1\n",
    "mu = (1 - momentum) * 0.0 + momentum * torch.mean(random_var[0][channel])\n",
    "var = (1 - momentum) * 1.0 + momentum * torch.var(random_var[0][channel], unbiased=True) \n",
    "mu, var"
   ]
  },
  {
   "cell_type": "markdown",
   "metadata": {},
   "source": [
    "# Upsampling"
   ]
  },
  {
   "cell_type": "code",
   "execution_count": 9,
   "metadata": {},
   "outputs": [
    {
     "data": {
      "text/plain": [
       "tensor([[[[1., 2.],\n",
       "          [3., 4.]]]])"
      ]
     },
     "execution_count": 9,
     "metadata": {},
     "output_type": "execute_result"
    }
   ],
   "source": [
    "var = torch.arange(1, 5, dtype=torch.float32).view(1, 1, 2, 2)\n",
    "var"
   ]
  },
  {
   "cell_type": "code",
   "execution_count": 10,
   "metadata": {},
   "outputs": [
    {
     "data": {
      "text/plain": [
       "tensor([[[[1., 1., 2., 2.],\n",
       "          [1., 1., 2., 2.],\n",
       "          [3., 3., 4., 4.],\n",
       "          [3., 3., 4., 4.]]]])"
      ]
     },
     "execution_count": 10,
     "metadata": {},
     "output_type": "execute_result"
    }
   ],
   "source": [
    "nn.Upsample(scale_factor=2, mode='nearest')(var)"
   ]
  },
  {
   "cell_type": "code",
   "execution_count": 12,
   "metadata": {},
   "outputs": [
    {
     "data": {
      "text/plain": [
       "tensor([[[[1.0000, 1.2500, 1.7500, 2.0000],\n",
       "          [1.5000, 1.7500, 2.2500, 2.5000],\n",
       "          [2.5000, 2.7500, 3.2500, 3.5000],\n",
       "          [3.0000, 3.2500, 3.7500, 4.0000]]]])"
      ]
     },
     "execution_count": 12,
     "metadata": {},
     "output_type": "execute_result"
    }
   ],
   "source": [
    "nn.Upsample(scale_factor=2, mode='bilinear', align_corners=False)(var)  # align_corners=False"
   ]
  },
  {
   "cell_type": "code",
   "execution_count": 13,
   "metadata": {},
   "outputs": [
    {
     "data": {
      "text/plain": [
       "tensor([[[[1.0000, 1.3333, 1.6667, 2.0000],\n",
       "          [1.6667, 2.0000, 2.3333, 2.6667],\n",
       "          [2.3333, 2.6667, 3.0000, 3.3333],\n",
       "          [3.0000, 3.3333, 3.6667, 4.0000]]]])"
      ]
     },
     "execution_count": 13,
     "metadata": {},
     "output_type": "execute_result"
    }
   ],
   "source": [
    "nn.Upsample(scale_factor=2, mode='bilinear', align_corners=True)(var)  # align_corners=False"
   ]
  },
  {
   "cell_type": "code",
   "execution_count": 38,
   "metadata": {},
   "outputs": [
    {
     "data": {
      "text/plain": [
       "tensor([[[[10., 20.],\n",
       "          [30., 40.]],\n",
       "\n",
       "         [[ 2.,  1.],\n",
       "          [ 4.,  3.]],\n",
       "\n",
       "         [[ 2.,  1.],\n",
       "          [ 4.,  3.]]]])"
      ]
     },
     "execution_count": 38,
     "metadata": {},
     "output_type": "execute_result"
    }
   ],
   "source": [
    "data = torch.tensor([\n",
    "    [[10, 20],\n",
    "     [30, 40]],\n",
    "    [[2, 1],\n",
    "     [4, 3]], \n",
    "    [[2, 1],\n",
    "     [4, 3]]],\n",
    "    dtype=torch.float32).view(1, 3, 2, 2)\n",
    "data"
   ]
  },
  {
   "cell_type": "code",
   "execution_count": 42,
   "metadata": {},
   "outputs": [
    {
     "data": {
      "text/plain": [
       "tensor([[[[10.0000, 12.5000, 17.5000, 20.0000],\n",
       "          [15.0000, 17.5000, 22.5000, 25.0000],\n",
       "          [25.0000, 27.5000, 32.5000, 35.0000],\n",
       "          [30.0000, 32.5000, 37.5000, 40.0000]],\n",
       "\n",
       "         [[ 2.0000,  1.7500,  1.2500,  1.0000],\n",
       "          [ 2.5000,  2.2500,  1.7500,  1.5000],\n",
       "          [ 3.5000,  3.2500,  2.7500,  2.5000],\n",
       "          [ 4.0000,  3.7500,  3.2500,  3.0000]],\n",
       "\n",
       "         [[ 2.0000,  1.7500,  1.2500,  1.0000],\n",
       "          [ 2.5000,  2.2500,  1.7500,  1.5000],\n",
       "          [ 3.5000,  3.2500,  2.7500,  2.5000],\n",
       "          [ 4.0000,  3.7500,  3.2500,  3.0000]]]])"
      ]
     },
     "execution_count": 42,
     "metadata": {},
     "output_type": "execute_result"
    }
   ],
   "source": [
    "nn.Upsample(scale_factor=2, mode='bilinear', align_corners=False)(data)  # align_corners=False"
   ]
  },
  {
   "cell_type": "code",
   "execution_count": null,
   "metadata": {},
   "outputs": [],
   "source": []
  }
 ],
 "metadata": {
  "kernelspec": {
   "display_name": "pytorch_unet",
   "language": "python",
   "name": "pytorch_unet"
  },
  "language_info": {
   "codemirror_mode": {
    "name": "ipython",
    "version": 3
   },
   "file_extension": ".py",
   "mimetype": "text/x-python",
   "name": "python",
   "nbconvert_exporter": "python",
   "pygments_lexer": "ipython3",
   "version": "3.6.12"
  }
 },
 "nbformat": 4,
 "nbformat_minor": 4
}
