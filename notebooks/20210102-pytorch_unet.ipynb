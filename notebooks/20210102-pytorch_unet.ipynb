{
 "cells": [
  {
   "cell_type": "code",
   "execution_count": 1,
   "metadata": {
    "id": "0hYqpgiDt5kB"
   },
   "outputs": [],
   "source": [
    "%load_ext autoreload\r\n",
    "%autoreload 2"
   ]
  },
  {
   "cell_type": "code",
   "execution_count": 2,
   "metadata": {
    "id": "fnLgl57SsoqS"
   },
   "outputs": [],
   "source": [
    "from os import getcwd, listdir, path\r\n",
    "import sys"
   ]
  },
  {
   "cell_type": "code",
   "execution_count": 3,
   "metadata": {
    "colab": {
     "base_uri": "https://localhost:8080/",
     "height": 36
    },
    "id": "Vy9dRcjPtCYl",
    "outputId": "26d8feab-7cd4-4084-afa2-5cbc24098ced"
   },
   "outputs": [
    {
     "data": {
      "application/vnd.google.colaboratory.intrinsic+json": {
       "type": "string"
      },
      "text/plain": [
       "'/content/drive/MyDrive/python_modules/pytorch_unet'"
      ]
     },
     "execution_count": 3,
     "metadata": {
      "tags": []
     },
     "output_type": "execute_result"
    }
   ],
   "source": [
    "python_modules_path = path.join(\r\n",
    "    getcwd(), \r\n",
    "    \"drive/MyDrive/python_modules/pytorch_unet\")\r\n",
    "python_modules_path"
   ]
  },
  {
   "cell_type": "code",
   "execution_count": 4,
   "metadata": {
    "colab": {
     "base_uri": "https://localhost:8080/"
    },
    "id": "nbwVBS1hsuPw",
    "outputId": "a3dba453-f534-4b51-89e9-a068d60c4fb5"
   },
   "outputs": [
    {
     "data": {
      "text/plain": [
       "['plot_utils.py',\n",
       " 'data_generator.py',\n",
       " 'losses.py',\n",
       " 'unet.py',\n",
       " 'dataset_generator.py',\n",
       " '__pycache__',\n",
       " 'utils.py']"
      ]
     },
     "execution_count": 4,
     "metadata": {
      "tags": []
     },
     "output_type": "execute_result"
    }
   ],
   "source": [
    "listdir(python_modules_path)"
   ]
  },
  {
   "cell_type": "code",
   "execution_count": 5,
   "metadata": {
    "id": "OGksl89zswBL"
   },
   "outputs": [],
   "source": [
    "sys.path.append(python_modules_path)"
   ]
  },
  {
   "cell_type": "code",
   "execution_count": 19,
   "metadata": {
    "id": "rQ07xbH2t_Fe"
   },
   "outputs": [],
   "source": [
    "import dataset_generator, data_generator, unet, losses, utils, plot_utils"
   ]
  },
  {
   "cell_type": "code",
   "execution_count": 7,
   "metadata": {
    "id": "JgnwCuG77Ng3"
   },
   "outputs": [],
   "source": [
    "# plot_utils.plot_losses(dict(train=dict(bce=[0.1, .02]), valid=dict(bce=[0.1, .02])))"
   ]
  },
  {
   "cell_type": "code",
   "execution_count": 8,
   "metadata": {
    "id": "wIAUFRUbi8Wp"
   },
   "outputs": [],
   "source": [
    "import torch\r\n",
    "import torch.nn as nn\r\n",
    "from torchvision import transforms\r\n",
    "from torchsummary import summary\r\n",
    "from tqdm import tqdm\r\n",
    "from torch.utils.data import DataLoader\r\n",
    "from matplotlib import pyplot as plt\r\n",
    "import numpy as np\r\n",
    "from copy import deepcopy\r\n",
    "from time import time"
   ]
  },
  {
   "cell_type": "code",
   "execution_count": 9,
   "metadata": {
    "id": "CPWtMeh2uULN"
   },
   "outputs": [],
   "source": [
    "(BATCH_SIZE,\r\n",
    " TARGET_CHANNELS,\r\n",
    " HEIGHT, \r\n",
    " WIDTH, \r\n",
    " N_SAMPLES_TRAIN,\r\n",
    " N_SAMPLES_VALID,\r\n",
    " N_SAMPLES_TEST)   = 32, 6, 128, 128, 2000, 400, 200"
   ]
  },
  {
   "cell_type": "code",
   "execution_count": 10,
   "metadata": {
    "colab": {
     "base_uri": "https://localhost:8080/"
    },
    "id": "CGEgrYtzkT4E",
    "outputId": "011260c8-3801-4c86-aaaf-e1a6971797cc"
   },
   "outputs": [
    {
     "data": {
      "text/plain": [
       "device(type='cuda')"
      ]
     },
     "execution_count": 10,
     "metadata": {
      "tags": []
     },
     "output_type": "execute_result"
    }
   ],
   "source": [
    "device = torch.device(\"cuda\" if torch.cuda.is_available() else \"cpu\")\r\n",
    "device"
   ]
  },
  {
   "cell_type": "code",
   "execution_count": 11,
   "metadata": {
    "id": "nTGafP1kugX0"
   },
   "outputs": [],
   "source": [
    "trfms = transforms.Compose([transforms.ToTensor()])\r\n",
    "\r\n",
    "train_dataset = dataset_generator.CustomDataset(\r\n",
    "    height=HEIGHT, \r\n",
    "    width=WIDTH, \r\n",
    "    n_samples=N_SAMPLES_TRAIN,\r\n",
    "    transform=trfms)\r\n",
    "\r\n",
    "valid_dataset = dataset_generator.CustomDataset(\r\n",
    "    height=HEIGHT, \r\n",
    "    width=WIDTH, \r\n",
    "    n_samples=N_SAMPLES_VALID,\r\n",
    "    transform=trfms)\r\n",
    "\r\n",
    "test_dataset = dataset_generator.CustomDataset(\r\n",
    "    height=HEIGHT, \r\n",
    "    width=WIDTH, \r\n",
    "    n_samples=N_SAMPLES_TRAIN,\r\n",
    "    transform=trfms)"
   ]
  },
  {
   "cell_type": "code",
   "execution_count": 12,
   "metadata": {
    "colab": {
     "base_uri": "https://localhost:8080/",
     "height": 286
    },
    "id": "9zpNZN4904fh",
    "outputId": "8edcbf47-7821-4f3a-a441-9ce585bb1af7"
   },
   "outputs": [
    {
     "name": "stdout",
     "output_type": "stream",
     "text": [
      "Image shape: (128, 128, 3)\n"
     ]
    },
    {
     "data": {
      "image/png": "[encoded data removed]",
      "text/plain": [
       "<Figure size 432x288 with 1 Axes>"
      ]
     },
     "metadata": {
      "needs_background": "light",
      "tags": []
     },
     "output_type": "display_data"
    }
   ],
   "source": [
    "i = np.random.choice(N_SAMPLES_TRAIN)\r\n",
    "img = utils.inverse_transform(train_dataset.__getitem__(i)[0])\r\n",
    "print(f\"Image shape: {img.shape}\")\r\n",
    "plt.imshow(img)\r\n",
    "plt.show()"
   ]
  },
  {
   "cell_type": "code",
   "execution_count": 13,
   "metadata": {
    "id": "T-MaIcCTxGQU"
   },
   "outputs": [],
   "source": [
    "data_loaders = {\r\n",
    "    \"train\": DataLoader(\r\n",
    "        dataset=train_dataset,\r\n",
    "        batch_size=BATCH_SIZE, \r\n",
    "        shuffle=True),\r\n",
    "    \"valid\": DataLoader(\r\n",
    "      dataset=valid_dataset,\r\n",
    "      batch_size=BATCH_SIZE, \r\n",
    "      shuffle=True),\r\n",
    "    \"test\": DataLoader(\r\n",
    "        dataset=test_dataset, \r\n",
    "        batch_size=BATCH_SIZE, \r\n",
    "        shuffle=False)}"
   ]
  },
  {
   "cell_type": "code",
   "execution_count": 14,
   "metadata": {
    "colab": {
     "base_uri": "https://localhost:8080/"
    },
    "id": "W7iwzaxlyrby",
    "outputId": "c709b564-682f-462a-a09b-245732a333f8"
   },
   "outputs": [
    {
     "name": "stdout",
     "output_type": "stream",
     "text": [
      "----------------------------------------------------------------\n",
      "        Layer (type)               Output Shape         Param #\n",
      "================================================================\n",
      "            Conv2d-1         [-1, 64, 128, 128]           1,792\n",
      "       BatchNorm2d-2         [-1, 64, 128, 128]             128\n",
      "              ReLU-3         [-1, 64, 128, 128]               0\n",
      "            Conv2d-4         [-1, 64, 128, 128]          36,928\n",
      "       BatchNorm2d-5         [-1, 64, 128, 128]             128\n",
      "              ReLU-6         [-1, 64, 128, 128]               0\n",
      "         MaxPool2d-7           [-1, 64, 64, 64]               0\n",
      "            Conv2d-8          [-1, 128, 64, 64]          73,856\n",
      "       BatchNorm2d-9          [-1, 128, 64, 64]             256\n",
      "             ReLU-10          [-1, 128, 64, 64]               0\n",
      "           Conv2d-11          [-1, 128, 64, 64]         147,584\n",
      "      BatchNorm2d-12          [-1, 128, 64, 64]             256\n",
      "             ReLU-13          [-1, 128, 64, 64]               0\n",
      "        MaxPool2d-14          [-1, 128, 32, 32]               0\n",
      "           Conv2d-15          [-1, 256, 32, 32]         295,168\n",
      "      BatchNorm2d-16          [-1, 256, 32, 32]             512\n",
      "             ReLU-17          [-1, 256, 32, 32]               0\n",
      "           Conv2d-18          [-1, 256, 32, 32]         590,080\n",
      "      BatchNorm2d-19          [-1, 256, 32, 32]             512\n",
      "             ReLU-20          [-1, 256, 32, 32]               0\n",
      "        MaxPool2d-21          [-1, 256, 16, 16]               0\n",
      "           Conv2d-22          [-1, 512, 16, 16]       1,180,160\n",
      "      BatchNorm2d-23          [-1, 512, 16, 16]           1,024\n",
      "             ReLU-24          [-1, 512, 16, 16]               0\n",
      "           Conv2d-25          [-1, 512, 16, 16]       2,359,808\n",
      "      BatchNorm2d-26          [-1, 512, 16, 16]           1,024\n",
      "             ReLU-27          [-1, 512, 16, 16]               0\n",
      "         Upsample-28          [-1, 512, 32, 32]               0\n",
      "           Conv2d-29          [-1, 256, 32, 32]       1,769,728\n",
      "      BatchNorm2d-30          [-1, 256, 32, 32]             512\n",
      "             ReLU-31          [-1, 256, 32, 32]               0\n",
      "           Conv2d-32          [-1, 256, 32, 32]         590,080\n",
      "      BatchNorm2d-33          [-1, 256, 32, 32]             512\n",
      "             ReLU-34          [-1, 256, 32, 32]               0\n",
      "         Upsample-35          [-1, 256, 64, 64]               0\n",
      "           Conv2d-36          [-1, 128, 64, 64]         442,496\n",
      "      BatchNorm2d-37          [-1, 128, 64, 64]             256\n",
      "             ReLU-38          [-1, 128, 64, 64]               0\n",
      "           Conv2d-39          [-1, 128, 64, 64]         147,584\n",
      "      BatchNorm2d-40          [-1, 128, 64, 64]             256\n",
      "             ReLU-41          [-1, 128, 64, 64]               0\n",
      "         Upsample-42        [-1, 128, 128, 128]               0\n",
      "           Conv2d-43         [-1, 64, 128, 128]         110,656\n",
      "      BatchNorm2d-44         [-1, 64, 128, 128]             128\n",
      "             ReLU-45         [-1, 64, 128, 128]               0\n",
      "           Conv2d-46         [-1, 64, 128, 128]          36,928\n",
      "      BatchNorm2d-47         [-1, 64, 128, 128]             128\n",
      "             ReLU-48         [-1, 64, 128, 128]               0\n",
      "           Conv2d-49          [-1, 6, 128, 128]             390\n",
      "================================================================\n",
      "Total params: 7,788,870\n",
      "Trainable params: 7,788,870\n",
      "Non-trainable params: 0\n",
      "----------------------------------------------------------------\n",
      "Input size (MB): 0.19\n",
      "Forward/backward pass size (MB): 206.25\n",
      "Params size (MB): 29.71\n",
      "Estimated Total Size (MB): 236.15\n",
      "----------------------------------------------------------------\n"
     ]
    }
   ],
   "source": [
    "model = unet.UNet(n_class=TARGET_CHANNELS)\r\n",
    "model.to(device)\r\n",
    "summary(model, input_size= next(iter(data_loaders[\"train\"]))[0][0].shape)"
   ]
  },
  {
   "cell_type": "code",
   "execution_count": 15,
   "metadata": {
    "id": "BAervxafy1GM"
   },
   "outputs": [],
   "source": [
    "def fit(data_loaders, model, optimizer, num_epochs):\r\n",
    "\r\n",
    "  track_epoch_loss_metrics = dict(train=dict(bce=[], dice=[], total=[]),\r\n",
    "                                  valid=dict(bce=[], dice=[], total=[]))\r\n",
    "  min_valid_loss = 1e10\r\n",
    "  for epoch in range(num_epochs):\r\n",
    "    start_time = time()\r\n",
    "    print(f\"{'-'*5} Epoch: {epoch} {'-'*5}\")\r\n",
    "    for mode in [\"train\", \"valid\"]:\r\n",
    "      \r\n",
    "      if mode == \"train\":\r\n",
    "        model.train() # read the documentation\r\n",
    "      else:\r\n",
    "        model.eval() # read the documentation\r\n",
    "      \r\n",
    "      total_batch_loss_metrics = dict(bce=0.0, dice=0.0, total=0.0)\r\n",
    "      for input_images, target_masks_true in data_loaders[mode]:\r\n",
    "        input_images = input_images.to(device)\r\n",
    "        target_masks_true = target_masks_true.to(device)\r\n",
    "\r\n",
    "        # setting inital parameter gradients to zero before backprop\r\n",
    "        optimizer.zero_grad()\r\n",
    "  \r\n",
    "        # enabling gradient only at time of training \r\n",
    "        with torch.set_grad_enabled(mode == \"train\"):\r\n",
    "          target_masks_pred = model.forward(input_images)\r\n",
    "          loss = losses.total_loss(target_masks_pred=target_masks_pred, \r\n",
    "                                   target_masks_true=target_masks_true, \r\n",
    "                                   loss_metrics=total_batch_loss_metrics)\r\n",
    "          if mode == \"train\":\r\n",
    "            loss.backward() # backprop to calculate gradients\r\n",
    "            optimizer.step() # optimizer to update model params\r\n",
    "\r\n",
    "      # Saving loss history throughout all epochs\r\n",
    "      for k in total_batch_loss_metrics.keys():\r\n",
    "        track_epoch_loss_metrics[mode][k].append(total_batch_loss_metrics[k])\r\n",
    "\r\n",
    "      # saving best model based on least validation loss\r\n",
    "      if mode == \"valid\" and total_batch_loss_metrics[\"total\"] < min_valid_loss:\r\n",
    "        print(\"Saving best model\")\r\n",
    "        min_valid_loss = total_batch_loss_metrics[\"total\"]\r\n",
    "        best_model_weights = deepcopy(model.state_dict())\r\n",
    "\r\n",
    "    plot_utils.plot_losses(track_epoch_loss_metrics)\r\n",
    "    \r\n",
    "    epoch_time = time() - start_time\r\n",
    "    print(f\"{epoch_time // 60: .0f}m {epoch_time % 60: .0f}s\")\r\n",
    "  \r\n",
    "  # loading best model weights\r\n",
    "  model.load_state_dict(best_model_weights)\r\n",
    "  return model"
   ]
  },
  {
   "cell_type": "code",
   "execution_count": 16,
   "metadata": {
    "colab": {
     "base_uri": "https://localhost:8080/",
     "height": 316
    },
    "id": "3fpPYcmewiaZ",
    "outputId": "2141eef6-9c0c-452d-86c6-3d3a29d96340"
   },
   "outputs": [
    {
     "data": {
      "image/png": "[encoded data removed]",
      "text/plain": [
       "<Figure size 576x288 with 2 Axes>"
      ]
     },
     "metadata": {
      "needs_background": "light",
      "tags": []
     },
     "output_type": "display_data"
    },
    {
     "name": "stdout",
     "output_type": "stream",
     "text": [
      " 0m  29s\n"
     ]
    }
   ],
   "source": [
    "LEARNING_RATE = 1e-4\r\n",
    "NUM_EPOCHS = 50\r\n",
    "optimizer = torch.optim.Adam(params = model.parameters(),\r\n",
    "                             lr = LEARNING_RATE)\r\n",
    "model = fit(data_loaders=data_loaders,\r\n",
    "            model=model, \r\n",
    "            optimizer=optimizer,\r\n",
    "            num_epochs=NUM_EPOCHS)"
   ]
  },
  {
   "cell_type": "code",
   "execution_count": 17,
   "metadata": {
    "id": "KZ4_xFXAEv0-"
   },
   "outputs": [],
   "source": [
    "# setting model to evaludate mode\r\n",
    "model.eval()\r\n",
    "test_input_images, test_target_masks_true = next(iter(data_loaders[\"test\"]))\r\n",
    "test_input_images = test_input_images.to(device)\r\n",
    "test_target_masks_true = test_target_masks_true.to(device)\r\n",
    "\r\n",
    "test_target_masks_pred = torch.sigmoid(\r\n",
    "    model.forward(test_input_images))"
   ]
  },
  {
   "cell_type": "code",
   "execution_count": 20,
   "metadata": {
    "id": "APAZCk5jGyLN"
   },
   "outputs": [],
   "source": [
    "test_input_images_color_mapped_true = [data_generator.masks_to_colorimg(x) for x in test_target_masks_true.data.cpu().numpy()]\r\n",
    "\r\n",
    "test_input_images_color_mapped_pred = [data_generator.masks_to_colorimg(x) for x in test_target_masks_pred.data.cpu().numpy()]"
   ]
  },
  {
   "cell_type": "code",
   "execution_count": 25,
   "metadata": {
    "colab": {
     "base_uri": "https://localhost:8080/",
     "height": 254
    },
    "id": "kWRn2ATmH47j",
    "outputId": "31817c73-248a-406a-e8a2-00d6cb13c5bc"
   },
   "outputs": [
    {
     "data": {
      "image/png": "[encoded data removed]",
      "text/plain": [
       "<Figure size 576x288 with 2 Axes>"
      ]
     },
     "metadata": {
      "needs_background": "light",
      "tags": []
     },
     "output_type": "display_data"
    }
   ],
   "source": [
    "plot_utils.plot_side_by_side(test_input_images_color_mapped_true[4], \r\n",
    "                             test_input_images_color_mapped_pred[4])"
   ]
  }
 ],
 "metadata": {
  "accelerator": "GPU",
  "colab": {
   "collapsed_sections": [],
   "name": "20210102-Pytorch-Unet.ipynb",
   "provenance": []
  },
  "kernelspec": {
   "display_name": "Python 3",
   "language": "python",
   "name": "python3"
  },
  "language_info": {
   "codemirror_mode": {
    "name": "ipython",
    "version": 3
   },
   "file_extension": ".py",
   "mimetype": "text/x-python",
   "name": "python",
   "nbconvert_exporter": "python",
   "pygments_lexer": "ipython3",
   "version": "3.8.3"
  }
 },
 "nbformat": 4,
 "nbformat_minor": 4
}
